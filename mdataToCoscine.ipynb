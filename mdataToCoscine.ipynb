{
 "cells": [
  {
   "attachments": {},
   "cell_type": "markdown",
   "metadata": {},
   "source": [
    "# With metadata to better data! (Meta)Data transfer from and to Coscine\n",
    "\n",
    "The [Coscine research data platform](https://www.coscine.de) provides an API interface to transfer metadata annotated data to Coscine in automated processes. In the workshop, we will show in small-scale steps how to move data to Coscine using a JupyterNotebook (Python) and Coscine's personal authentication token, and how to specify the metadata using the application profile provided by the application. Prior knowledge of Python is desirable."
   ]
  },
  {
   "attachments": {},
   "cell_type": "markdown",
   "metadata": {},
   "source": [
    "First things first, you need a Coscine project. You can use your own if you have access, or we will add you to this one: https://coscine.rwth-aachen.de/p/fdmwerkstatt/ \n",
    "\n",
    "Next, head to your [user profile](https://coscine.rwth-aachen.de/user/) and get your Access Token. Copy this into your config file under `token`.\n"
   ]
  },
  {
   "attachments": {},
   "cell_type": "markdown",
   "metadata": {},
   "source": [
    "Create a resource... "
   ]
  },
  {
   "attachments": {},
   "cell_type": "markdown",
   "metadata": {},
   "source": [
    "Go to the resource setting and copy all relevant information into your config file. This includes resource name and ID and project name. \n",
    "\n",
    "Now let's load all dependencies and configurations into our jupyter notebook."
   ]
  },
  {
   "cell_type": "code",
   "execution_count": 1,
   "metadata": {},
   "outputs": [],
   "source": []
  },
  {
   "attachments": {},
   "cell_type": "markdown",
   "metadata": {},
   "source": [
    "If you have any errors loading the packages, run the code below with the associated package name:"
   ]
  },
  {
   "cell_type": "code",
   "execution_count": null,
   "metadata": {},
   "outputs": [],
   "source": [
    "pip install PACKAGE_NAME"
   ]
  },
  {
   "attachments": {},
   "cell_type": "markdown",
   "metadata": {},
   "source": [
    "Load the configuration:"
   ]
  },
  {
   "cell_type": "code",
   "execution_count": 2,
   "metadata": {},
   "outputs": [],
   "source": []
  },
  {
   "attachments": {},
   "cell_type": "markdown",
   "metadata": {},
   "source": [
    "We use the Coscine package to connect with Coscine REST API, which enables us to interact with our project and resource. \n",
    "\n",
    "For more information and other examples: [Coscine Python SDK](https://git.rwth-aachen.de/coscine/community-features/coscine-python-sdk)"
   ]
  },
  {
   "cell_type": "code",
   "execution_count": 3,
   "metadata": {},
   "outputs": [
    {
     "name": "stdout",
     "output_type": "stream",
     "text": [
      "                      _              \n",
      "                     (_)             \n",
      "    ___ ___  ___  ___ _ _ __   ___   \n",
      "   / __/ _ \\/ __|/ __| | '_ \\ / _ \\  \n",
      "  | (_| (_) \\__ \\ (__| | | | |  __/  \n",
      "   \\___\\___/|___/\\___|_|_| |_|\\___|  \n",
      " ___________________________________ \n",
      "  Coscine Python SDK 0.10.1   \n",
      "  https://coscine.de/                \n",
      "\n"
     ]
    }
   ],
   "source": [
    "\n"
   ]
  },
  {
   "cell_type": "code",
   "execution_count": 4,
   "metadata": {},
   "outputs": [
    {
     "name": "stdout",
     "output_type": "stream",
     "text": [
      "-----------------------  ----------------------------------------------------------\n",
      "ID                       41ea010a-92e2-4caf-8c28-bde8c96ff226\n",
      "Name                     Automating (Meta)Data Transfer to Coscine (RDM II-modular)\n",
      "Display Name             Automating (Meta)Data\n",
      "Description              Automating metadata transfer to Coscine Workshop\n",
      "Principal Investigators  Catherine Gonzalez\n",
      "Disciplines              Computer Science 409\n",
      "Organizations            RWTH Aachen University\n",
      "Start Date               2023-11-29\n",
      "End Date                 2028-11-30\n",
      "Date created             2023-11-29\n",
      "Creator\n",
      "Grant ID\n",
      "PID                      21.11102/41ea010a-92e2-4caf-8c28-bde8c96ff226\n",
      "Slug                     automating-metadata-05605743\n",
      "Keywords\n",
      "Visibility               Project Members\n",
      "-----------------------  ----------------------------------------------------------\n"
     ]
    }
   ],
   "source": []
  },
  {
   "cell_type": "code",
   "execution_count": 5,
   "metadata": {},
   "outputs": [
    {
     "name": "stdout",
     "output_type": "stream",
     "text": [
      "-------------------  ---------------------------------------------\n",
      "ID                   1f6ce8fa-c988-4aaf-a83b-de0791fc938f\n",
      "Name                 Test\n",
      "Display Name         Test\n",
      "Description          Test\n",
      "Disciplines          Computer Science 409\n",
      "Date created         2023-11-29\n",
      "Creator              7c034178-8c50-44c2-b90e-a1ea72954d0c\n",
      "PID                  21.11102/1f6ce8fa-c988-4aaf-a83b-de0791fc938f\n",
      "Keywords             []\n",
      "Visibility           Project Members\n",
      "Application Profile  Basisprofil\n",
      "Usage rights\n",
      "License\n",
      "Archived             False\n",
      "-------------------  ---------------------------------------------\n"
     ]
    }
   ],
   "source": []
  },
  {
   "attachments": {},
   "cell_type": "markdown",
   "metadata": {},
   "source": [
    "Get the metadata form and take a look at it:"
   ]
  },
  {
   "cell_type": "code",
   "execution_count": 5,
   "metadata": {},
   "outputs": [
    {
     "name": "stdout",
     "output_type": "stream",
     "text": [
      "Required    Controlled    Type    Range    Field          Value\n",
      "----------  ------------  ------  -------  -------------  ----------\n",
      "True        False         str     1 - 128  Title\n",
      "True        False         str     1 - 128  Creator        {ME}\n",
      "True        False         date    1 - 1    Creation Date  2023-11-29\n",
      "False       True          str     0 - 128  Subject Area\n",
      "False       True          str     0 - 128  Type\n"
     ]
    }
   ],
   "source": []
  },
  {
   "attachments": {},
   "cell_type": "markdown",
   "metadata": {},
   "source": [
    "This form is a dictionary-like data structure, so you can interact with it like a python dictionary:"
   ]
  },
  {
   "cell_type": "code",
   "execution_count": 6,
   "metadata": {},
   "outputs": [],
   "source": []
  },
  {
   "cell_type": "code",
   "execution_count": 7,
   "metadata": {},
   "outputs": [
    {
     "ename": "ValueError",
     "evalue": "The field 'Type' is controlled by a vocabulary. The value 'this thing' that you have provided did not match any of the entries in the vocabulary!",
     "output_type": "error",
     "traceback": [
      "\u001b[1;31m---------------------------------------------------------------------------\u001b[0m",
      "\u001b[1;31mValueError\u001b[0m                                Traceback (most recent call last)",
      "Cell \u001b[1;32mIn[7], line 1\u001b[0m\n\u001b[1;32m----> 1\u001b[0m metadata[\u001b[39m'\u001b[39;49m\u001b[39mType\u001b[39;49m\u001b[39m'\u001b[39;49m] \u001b[39m=\u001b[39m \u001b[39m'\u001b[39m\u001b[39mthis thing\u001b[39m\u001b[39m'\u001b[39m\n",
      "File \u001b[1;32m~\\AppData\\Local\\Packages\\PythonSoftwareFoundation.Python.3.11_qbz5n2kfra8p0\\LocalCache\\local-packages\\Python311\\site-packages\\coscine\\metadata.py:906\u001b[0m, in \u001b[0;36mMetadataForm.__setitem__\u001b[1;34m(self, key, values)\u001b[0m\n\u001b[0;32m    905\u001b[0m \u001b[39mdef\u001b[39;00m \u001b[39m__setitem__\u001b[39m(\u001b[39mself\u001b[39m, key: \u001b[39mstr\u001b[39m, values: FormType \u001b[39m|\u001b[39m \u001b[39mlist\u001b[39m[FormType]) \u001b[39m-\u001b[39m\u001b[39m>\u001b[39m \u001b[39mNone\u001b[39;00m:\n\u001b[1;32m--> 906\u001b[0m     \u001b[39mself\u001b[39;49m\u001b[39m.\u001b[39;49mfield(key)\u001b[39m.\u001b[39;49mvalues \u001b[39m=\u001b[39m values\n",
      "File \u001b[1;32m~\\AppData\\Local\\Packages\\PythonSoftwareFoundation.Python.3.11_qbz5n2kfra8p0\\LocalCache\\local-packages\\Python311\\site-packages\\coscine\\metadata.py:475\u001b[0m, in \u001b[0;36mFormField.values\u001b[1;34m(self, value)\u001b[0m\n\u001b[0;32m    473\u001b[0m         \u001b[39mself\u001b[39m\u001b[39m.\u001b[39mappend(item)\n\u001b[0;32m    474\u001b[0m \u001b[39melse\u001b[39;00m:\n\u001b[1;32m--> 475\u001b[0m     \u001b[39mself\u001b[39;49m\u001b[39m.\u001b[39;49mvalidate(value)\n\u001b[0;32m    476\u001b[0m     \u001b[39mself\u001b[39m\u001b[39m.\u001b[39m_values \u001b[39m=\u001b[39m [value]\n",
      "File \u001b[1;32m~\\AppData\\Local\\Packages\\PythonSoftwareFoundation.Python.3.11_qbz5n2kfra8p0\\LocalCache\\local-packages\\Python311\\site-packages\\coscine\\metadata.py:492\u001b[0m, in \u001b[0;36mFormField.validate\u001b[1;34m(self, value)\u001b[0m\n\u001b[0;32m    490\u001b[0m \u001b[39massert\u001b[39;00m \u001b[39misinstance\u001b[39m(value, \u001b[39mstr\u001b[39m)\n\u001b[0;32m    491\u001b[0m \u001b[39mif\u001b[39;00m \u001b[39mself\u001b[39m\u001b[39m.\u001b[39mhas_vocabulary \u001b[39mand\u001b[39;00m value \u001b[39mnot\u001b[39;00m \u001b[39min\u001b[39;00m \u001b[39mself\u001b[39m\u001b[39m.\u001b[39mvocabulary:\n\u001b[1;32m--> 492\u001b[0m     \u001b[39mraise\u001b[39;00m \u001b[39mValueError\u001b[39;00m(\n\u001b[0;32m    493\u001b[0m         \u001b[39mf\u001b[39m\u001b[39m\"\u001b[39m\u001b[39mThe field \u001b[39m\u001b[39m'\u001b[39m\u001b[39m{\u001b[39;00m\u001b[39mself\u001b[39m\u001b[39m.\u001b[39mname\u001b[39m}\u001b[39;00m\u001b[39m'\u001b[39m\u001b[39m is controlled by a vocabulary. \u001b[39m\u001b[39m\"\u001b[39m\n\u001b[0;32m    494\u001b[0m         \u001b[39mf\u001b[39m\u001b[39m\"\u001b[39m\u001b[39mThe value \u001b[39m\u001b[39m'\u001b[39m\u001b[39m{\u001b[39;00mvalue\u001b[39m}\u001b[39;00m\u001b[39m'\u001b[39m\u001b[39m that you have provided did not \u001b[39m\u001b[39m\"\u001b[39m\n\u001b[0;32m    495\u001b[0m         \u001b[39m\"\u001b[39m\u001b[39mmatch any of the entries in the vocabulary!\u001b[39m\u001b[39m\"\u001b[39m\n\u001b[0;32m    496\u001b[0m     )\n\u001b[0;32m    497\u001b[0m \u001b[39mif\u001b[39;00m \u001b[39mself\u001b[39m\u001b[39m.\u001b[39mhas_selection \u001b[39mand\u001b[39;00m value \u001b[39mnot\u001b[39;00m \u001b[39min\u001b[39;00m \u001b[39mself\u001b[39m\u001b[39m.\u001b[39mselection:\n\u001b[0;32m    498\u001b[0m     \u001b[39mraise\u001b[39;00m \u001b[39mValueError\u001b[39;00m(\n\u001b[0;32m    499\u001b[0m         \u001b[39mf\u001b[39m\u001b[39m\"\u001b[39m\u001b[39mThe field \u001b[39m\u001b[39m'\u001b[39m\u001b[39m{\u001b[39;00m\u001b[39mself\u001b[39m\u001b[39m.\u001b[39mname\u001b[39m}\u001b[39;00m\u001b[39m'\u001b[39m\u001b[39m is controlled by a selection. \u001b[39m\u001b[39m\"\u001b[39m\n\u001b[0;32m    500\u001b[0m         \u001b[39mf\u001b[39m\u001b[39m\"\u001b[39m\u001b[39mThe value \u001b[39m\u001b[39m'\u001b[39m\u001b[39m{\u001b[39;00mvalue\u001b[39m}\u001b[39;00m\u001b[39m'\u001b[39m\u001b[39m that you have provided did not \u001b[39m\u001b[39m\"\u001b[39m\n\u001b[0;32m    501\u001b[0m         \u001b[39m\"\u001b[39m\u001b[39mmatch any of the entries in the selection!\u001b[39m\u001b[39m\"\u001b[39m\n\u001b[0;32m    502\u001b[0m     )\n",
      "\u001b[1;31mValueError\u001b[0m: The field 'Type' is controlled by a vocabulary. The value 'this thing' that you have provided did not match any of the entries in the vocabulary!"
     ]
    }
   ],
   "source": []
  },
  {
   "attachments": {},
   "cell_type": "markdown",
   "metadata": {},
   "source": [
    "The error is because the field is a controlled vocabulary. Let's see what is allowed:"
   ]
  },
  {
   "cell_type": "code",
   "execution_count": 7,
   "metadata": {},
   "outputs": [
    {
     "name": "stdout",
     "output_type": "stream",
     "text": [
      "Collection\n",
      "Dataset\n",
      "Event\n",
      "Image\n",
      "Interactive Resource\n",
      "Moving Image\n",
      "Physical Object\n",
      "Service\n",
      "Software\n",
      "Sound\n",
      "Still Image\n",
      "Text\n"
     ]
    }
   ],
   "source": []
  },
  {
   "cell_type": "code",
   "execution_count": 8,
   "metadata": {},
   "outputs": [],
   "source": []
  },
  {
   "cell_type": "code",
   "execution_count": 9,
   "metadata": {},
   "outputs": [
    {
     "name": "stdout",
     "output_type": "stream",
     "text": [
      "0 Collection\n",
      "1 Dataset\n",
      "2 Event\n",
      "3 Image\n",
      "4 Interactive Resource\n",
      "5 Moving Image\n",
      "6 Physical Object\n",
      "7 Service\n",
      "8 Software\n",
      "9 Sound\n",
      "10 Still Image\n",
      "11 Text\n"
     ]
    }
   ],
   "source": []
  },
  {
   "attachments": {},
   "cell_type": "markdown",
   "metadata": {},
   "source": [
    "Let's deal with the date. It needs to be formatted as a datetime object:"
   ]
  },
  {
   "cell_type": "code",
   "execution_count": null,
   "metadata": {},
   "outputs": [],
   "source": []
  },
  {
   "attachments": {},
   "cell_type": "markdown",
   "metadata": {},
   "source": [
    "Add whatever else is missing:"
   ]
  },
  {
   "cell_type": "code",
   "execution_count": null,
   "metadata": {},
   "outputs": [],
   "source": []
  },
  {
   "attachments": {},
   "cell_type": "markdown",
   "metadata": {},
   "source": [
    "Now we upload the metadata and the data. We'll just use a dummy text file here called `myData.txt`."
   ]
  },
  {
   "cell_type": "code",
   "execution_count": null,
   "metadata": {},
   "outputs": [],
   "source": []
  },
  {
   "attachments": {},
   "cell_type": "markdown",
   "metadata": {},
   "source": [
    "<!-- If you were working with a nested directory structure or larger data, you'd want to use the S3 credentials to interact with the resource via s3 protocol. \n",
    "\n",
    "We can get these using the API: -->\n",
    "\n",
    "Both web resources and S3 resources allow you to create directories. But web resources require metadata be provided."
   ]
  },
  {
   "cell_type": "code",
   "execution_count": null,
   "metadata": {},
   "outputs": [],
   "source": []
  },
  {
   "attachments": {},
   "cell_type": "markdown",
   "metadata": {},
   "source": [
    "This let's us make directories:"
   ]
  },
  {
   "cell_type": "code",
   "execution_count": null,
   "metadata": {},
   "outputs": [],
   "source": []
  },
  {
   "attachments": {},
   "cell_type": "markdown",
   "metadata": {},
   "source": [
    "And upload files to a directory:"
   ]
  },
  {
   "cell_type": "code",
   "execution_count": null,
   "metadata": {},
   "outputs": [],
   "source": []
  },
  {
   "attachments": {},
   "cell_type": "markdown",
   "metadata": {},
   "source": [
    "We cannot add metadata via S3, so we use the API to update the metadata:"
   ]
  },
  {
   "cell_type": "code",
   "execution_count": null,
   "metadata": {},
   "outputs": [],
   "source": []
  },
  {
   "attachments": {},
   "cell_type": "markdown",
   "metadata": {},
   "source": [
    "Let's add metadata to the folder as well:"
   ]
  },
  {
   "cell_type": "code",
   "execution_count": null,
   "metadata": {},
   "outputs": [],
   "source": []
  },
  {
   "attachments": {},
   "cell_type": "markdown",
   "metadata": {},
   "source": [
    "## Let's get fancier and extract metadata from a file"
   ]
  },
  {
   "attachments": {},
   "cell_type": "markdown",
   "metadata": {},
   "source": [
    "Let's try getting some metadata out of an image file. For this we use the pillow (PIL) module.\n",
    "\n",
    "The data folder includes a dataset titled 3dsem which includes some JPEG and TIFF images\n",
    "\n",
    "data source\n",
    "Authors: Tafti, Ahmad P and Kirkpatrick, Andrew B and Holz, Jessica D and Owen, Heather A and Yu, Zeyun\n",
    "\n",
    "DOI: 10.7910/DVN/HVBW0Q\n",
    "\n",
    "License: CC-0"
   ]
  },
  {
   "attachments": {},
   "cell_type": "markdown",
   "metadata": {},
   "source": [
    "We can extend the base profile in Coscine to fit some of this metadata. Which we've already done! Yay!\n",
    "\n",
    "Let's create a new resource within out project. We can do this via Coscine web interface."
   ]
  },
  {
   "cell_type": "code",
   "execution_count": null,
   "metadata": {},
   "outputs": [],
   "source": []
  }
 ],
 "metadata": {
  "kernelspec": {
   "display_name": "Python 3",
   "language": "python",
   "name": "python3"
  },
  "language_info": {
   "codemirror_mode": {
    "name": "ipython",
    "version": 3
   },
   "file_extension": ".py",
   "mimetype": "text/x-python",
   "name": "python",
   "nbconvert_exporter": "python",
   "pygments_lexer": "ipython3",
   "version": "3.11.6"
  },
  "orig_nbformat": 4,
  "vscode": {
   "interpreter": {
    "hash": "c1d664b7b3d05671335980e7eb4f6640334cda596ee554baf6122142d3786f25"
   }
  }
 },
 "nbformat": 4,
 "nbformat_minor": 2
}
